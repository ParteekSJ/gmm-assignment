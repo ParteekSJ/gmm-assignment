{
 "cells": [
  {
   "cell_type": "markdown",
   "id": "e14880e3-6a46-47a5-a257-0bbdd91adffd",
   "metadata": {},
   "source": [
    "# Parameter Logic for the Gaussians of the Circle\n",
    "In this code file, we define the logic for the initial parameters. We define a circle with centre (5,7) and radius 10 and place 10 Gaussians on it."
   ]
  },
  {
   "cell_type": "code",
   "execution_count": 27,
   "id": "9a40de58-4b98-4a79-9bdc-68dc151fe976",
   "metadata": {},
   "outputs": [],
   "source": [
    "# IMPORT LIBRARIES\n",
    "import numpy as np\n",
    "import matplotlib.pyplot as plt\n",
    "import random\n",
    "import math"
   ]
  },
  {
   "cell_type": "code",
   "execution_count": 28,
   "id": "a8f7e31b-9753-4759-a5f8-46a076ad749a",
   "metadata": {},
   "outputs": [],
   "source": [
    "# DEFINING THE ROTATION MATRIX\n",
    "def rotation_matrix(theta):\n",
    "    theta = np.deg2rad(theta)\n",
    "    c, s = np.cos(theta), np.sin(theta)\n",
    "    return np.array([[c, -s], [s, c]])"
   ]
  },
  {
   "cell_type": "code",
   "execution_count": 29,
   "id": "9f5c1bc1-2496-4200-9d50-bfcf74a61455",
   "metadata": {},
   "outputs": [],
   "source": [
    "# radius of the circle\n",
    "circle_r = 10\n",
    "# center of the circle (x,y)\n",
    "circle_x = 5\n",
    "circle_y = 7\n",
    "\n",
    "x1s,x2s = [],[]\n",
    "\n",
    "for i in range(350):\n",
    "    # random angle\n",
    "    alpha = 2 * math.pi * random.random()\n",
    "    # calculating coordinates\n",
    "    x = circle_r * math.cos(alpha) + circle_x + (np.random.randn(1) * 0.5)\n",
    "    y = circle_r * math.sin(alpha) + circle_y + (np.random.randn(1) * 0.5)\n",
    "    x1s.append(x) \n",
    "    x2s.append(y)"
   ]
  },
  {
   "cell_type": "code",
   "execution_count": 30,
   "id": "cf289167-9406-4e95-8e55-2d7f8ebdc6c5",
   "metadata": {},
   "outputs": [
    {
     "data": {
      "text/plain": [
       "<matplotlib.collections.PathCollection at 0x11e33a590>"
      ]
     },
     "execution_count": 30,
     "metadata": {},
     "output_type": "execute_result"
    },
    {
     "data": {
      "image/png": "[encoded data removed]",
      "text/plain": [
       "<Figure size 640x480 with 1 Axes>"
      ]
     },
     "metadata": {},
     "output_type": "display_data"
    }
   ],
   "source": [
    "# This is the data on which we'll place the 10 Gaussians.\n",
    "plt.scatter(x1s,x2s)"
   ]
  },
  {
   "cell_type": "code",
   "execution_count": 31,
   "id": "b007e917-6d38-4236-be60-3b5323b1f197",
   "metadata": {},
   "outputs": [],
   "source": [
    "# Circle Parameters [Focus and Radius]\n",
    "mean = np.array([5,7]) # centre of the circle\n",
    "radius = 10"
   ]
  },
  {
   "cell_type": "code",
   "execution_count": 32,
   "id": "541f6b74-da94-4561-8cc0-d4c0d445a88b",
   "metadata": {},
   "outputs": [
    {
     "data": {
      "text/plain": [
       "array([[-2.98647339, 11.49679694],\n",
       "       [11.38390579,  0.5424545 ],\n",
       "       [10.56290379, 14.69051527],\n",
       "       [-3.89045319,  2.59107491],\n",
       "       [14.83993888,  5.98054287]])"
      ]
     },
     "execution_count": 32,
     "metadata": {},
     "output_type": "execute_result"
    }
   ],
   "source": [
    "X = np.concatenate((x1s,x2s),axis=1)\n",
    "X[:5]"
   ]
  },
  {
   "cell_type": "code",
   "execution_count": 33,
   "id": "ab4dcabc-e58c-4a17-a458-7efa96c20da5",
   "metadata": {},
   "outputs": [
    {
     "name": "stdout",
     "output_type": "stream",
     "text": [
      "0\n",
      "36\n",
      "72\n",
      "108\n",
      "144\n",
      "180\n",
      "216\n",
      "252\n",
      "288\n",
      "324\n",
      "360\n"
     ]
    }
   ],
   "source": [
    "for i in range(11):\n",
    "    print(i*36)"
   ]
  },
  {
   "cell_type": "code",
   "execution_count": 34,
   "id": "f6c86a49-0d47-4ee6-8b2c-5774e8b935e6",
   "metadata": {},
   "outputs": [
    {
     "name": "stdout",
     "output_type": "stream",
     "text": [
      "90\n",
      "126\n",
      "162\n",
      "198\n",
      "234\n",
      "270\n",
      "306\n",
      "342\n",
      "378\n",
      "414\n",
      "450\n"
     ]
    }
   ],
   "source": [
    "for i in range(11):\n",
    "    print(i*36 + 90)"
   ]
  },
  {
   "cell_type": "markdown",
   "id": "e77c288b-50d8-4c7d-bace-1f17ae2ae2f9",
   "metadata": {},
   "source": [
    "## Defining the Covariances of the 10 Gaussians\n",
    "$$\\Sigma' = R_\\theta \\times \\Sigma \\times R_\\theta^T$$"
   ]
  },
  {
   "cell_type": "code",
   "execution_count": 35,
   "id": "5f79ba78-f36d-4f25-aa12-df886e83da34",
   "metadata": {},
   "outputs": [],
   "source": [
    "# Scaling matrix / Variances: This is the \n",
    "sx, sy = 0.15*(circle_r), (1/3)*(0.1*circle_r)\n",
    "Scale = np.array([[sx, 0], [0, sy]])"
   ]
  },
  {
   "cell_type": "code",
   "execution_count": 36,
   "id": "cedb4c94-c8e8-484c-8db3-03c5eb2e20d8",
   "metadata": {},
   "outputs": [],
   "source": [
    "Rot1 = rotation_matrix(36+90) # angle\n",
    "cov1 = Rot1@Scale@Rot1.T # covariance matrix for Gaussian 1"
   ]
  },
  {
   "cell_type": "code",
   "execution_count": 37,
   "id": "209c311c-ea75-477e-82aa-b109ab8297e4",
   "metadata": {},
   "outputs": [],
   "source": [
    "Rot2 = rotation_matrix(72+90)\n",
    "cov2 = Rot2@Scale@Rot2.T"
   ]
  },
  {
   "cell_type": "code",
   "execution_count": 38,
   "id": "1c6bd5ae-4812-43d2-bd49-ce1c31ce2a8a",
   "metadata": {},
   "outputs": [],
   "source": [
    "Rot3 = rotation_matrix(108+90)\n",
    "cov3 = Rot3@Scale@Rot3.T"
   ]
  },
  {
   "cell_type": "code",
   "execution_count": 39,
   "id": "cd4967e5-639d-4fd5-8922-debed18212fa",
   "metadata": {},
   "outputs": [],
   "source": [
    "Rot4 = rotation_matrix(144+90)\n",
    "cov4 = Rot4@Scale@Rot4.T"
   ]
  },
  {
   "cell_type": "code",
   "execution_count": 40,
   "id": "3b01f5c3-7c88-483d-8c87-8997882fae02",
   "metadata": {},
   "outputs": [],
   "source": [
    "Rot5 = rotation_matrix(180+90)\n",
    "cov5 = Rot5@Scale@Rot5.T"
   ]
  },
  {
   "cell_type": "code",
   "execution_count": 41,
   "id": "631c3b5b-d555-4bd7-bb66-286a5d15d508",
   "metadata": {},
   "outputs": [],
   "source": [
    "Rot6 = rotation_matrix(216+90)\n",
    "cov6 = Rot6@Scale@Rot6.T"
   ]
  },
  {
   "cell_type": "code",
   "execution_count": 42,
   "id": "a780dc3f-c2f9-4248-99ff-8b7245a8b71d",
   "metadata": {},
   "outputs": [],
   "source": [
    "Rot7 = rotation_matrix(252+90)\n",
    "cov7 = Rot7@Scale@Rot7.T"
   ]
  },
  {
   "cell_type": "code",
   "execution_count": 43,
   "id": "0bee6650-1c4c-43b5-a9f5-54744a8c2210",
   "metadata": {},
   "outputs": [],
   "source": [
    "Rot8 = rotation_matrix(288+90)\n",
    "cov8 = Rot8@Scale@Rot8.T"
   ]
  },
  {
   "cell_type": "code",
   "execution_count": 44,
   "id": "74218b4b-6152-4df1-9440-a07a7134fcb0",
   "metadata": {},
   "outputs": [],
   "source": [
    "Rot9 = rotation_matrix(324+90)\n",
    "cov9 = Rot9@Scale@Rot9.T"
   ]
  },
  {
   "cell_type": "code",
   "execution_count": 45,
   "id": "999aef49-e27c-4dfd-bee5-71c672262850",
   "metadata": {},
   "outputs": [
    {
     "data": {
      "text/plain": [
       "array([[3.33333333e-01, 3.57188650e-16],\n",
       "       [3.57188650e-16, 1.50000000e+00]])"
      ]
     },
     "execution_count": 45,
     "metadata": {},
     "output_type": "execute_result"
    }
   ],
   "source": [
    "Rot10 = rotation_matrix(360+90)\n",
    "cov10 = Rot10@Scale@Rot10.T\n",
    "cov10"
   ]
  },
  {
   "cell_type": "code",
   "execution_count": 46,
   "id": "0c9e4dfc-dfc3-4efb-9b1b-6990bb58c6a3",
   "metadata": {},
   "outputs": [],
   "source": [
    "# Creating 10 Gaussian Means\n",
    "g1_mean = mean + radius*np.array([np.cos(np.deg2rad(36)),np.sin(np.deg2rad(36))])\n",
    "g2_mean = mean + radius*np.array([np.cos(np.deg2rad(72)),np.sin(np.deg2rad(72))])\n",
    "g3_mean = mean + radius*np.array([np.cos(np.deg2rad(108)),np.sin(np.deg2rad(108))])\n",
    "g4_mean = mean + radius*np.array([np.cos(np.deg2rad(144)),np.sin(np.deg2rad(144))])\n",
    "g5_mean = mean + radius*np.array([np.cos(np.deg2rad(180)),np.sin(np.deg2rad(180))])\n",
    "g6_mean = mean + radius*np.array([np.cos(np.deg2rad(216)),np.sin(np.deg2rad(216))])\n",
    "g7_mean = mean + radius*np.array([np.cos(np.deg2rad(252)),np.sin(np.deg2rad(252))])\n",
    "g8_mean = mean + radius*np.array([np.cos(np.deg2rad(288)),np.sin(np.deg2rad(288))])\n",
    "g9_mean = mean + radius*np.array([np.cos(np.deg2rad(324)),np.sin(np.deg2rad(324))])\n",
    "g10_mean = mean + radius*np.array([np.cos(np.deg2rad(360)),np.sin(np.deg2rad(360))])"
   ]
  },
  {
   "cell_type": "code",
   "execution_count": 47,
   "id": "a0fd8648-62d2-447e-a177-84a246712376",
   "metadata": {},
   "outputs": [],
   "source": [
    "# Generating 250 data points from a Multivariate Gaussian given the above defined params\n",
    "g1_mvg = np.random.multivariate_normal(mean=g1_mean, cov=cov1, size=250)\n",
    "g2_mvg = np.random.multivariate_normal(mean=g2_mean, cov=cov2, size=250)\n",
    "g3_mvg = np.random.multivariate_normal(mean=g3_mean, cov=cov3, size=250)\n",
    "g4_mvg = np.random.multivariate_normal(mean=g4_mean, cov=cov4, size=250)\n",
    "g5_mvg = np.random.multivariate_normal(mean=g5_mean, cov=cov5, size=250)\n",
    "g6_mvg = np.random.multivariate_normal(mean=g6_mean, cov=cov6, size=250)\n",
    "g7_mvg = np.random.multivariate_normal(mean=g7_mean, cov=cov7, size=250)\n",
    "g8_mvg = np.random.multivariate_normal(mean=g8_mean, cov=cov8, size=250)\n",
    "g9_mvg = np.random.multivariate_normal(mean=g9_mean, cov=cov9, size=250)\n",
    "g10_mvg = np.random.multivariate_normal(mean=g10_mean, cov=cov10, size=250)"
   ]
  },
  {
   "cell_type": "code",
   "execution_count": 48,
   "id": "225a877e-2feb-4921-b48f-57396c1175cf",
   "metadata": {},
   "outputs": [
    {
     "data": {
      "text/plain": [
       "<matplotlib.collections.PathCollection at 0x11e4332b0>"
      ]
     },
     "execution_count": 48,
     "metadata": {},
     "output_type": "execute_result"
    },
    {
     "data": {
      "image/png": "[encoded data removed]",
      "text/plain": [
       "<Figure size 640x480 with 1 Axes>"
      ]
     },
     "metadata": {},
     "output_type": "display_data"
    }
   ],
   "source": [
    "plt.scatter(x1s,x2s)\n",
    "plt.scatter(g1_mvg[:,0],g1_mvg[:,1])\n",
    "plt.scatter(g2_mvg[:,0],g2_mvg[:,1])\n",
    "plt.scatter(g3_mvg[:,0],g3_mvg[:,1])\n",
    "plt.scatter(g4_mvg[:,0],g4_mvg[:,1])\n",
    "plt.scatter(g5_mvg[:,0],g5_mvg[:,1])\n",
    "plt.scatter(g6_mvg[:,0],g6_mvg[:,1])\n",
    "plt.scatter(g7_mvg[:,0],g7_mvg[:,1])\n",
    "plt.scatter(g8_mvg[:,0],g8_mvg[:,1])\n",
    "plt.scatter(g9_mvg[:,0],g9_mvg[:,1])\n",
    "plt.scatter(g10_mvg[:,0],g10_mvg[:,1],c='k')"
   ]
  },
  {
   "cell_type": "code",
   "execution_count": 49,
   "id": "42cd2711-0319-442d-9337-cb9a925fb8b7",
   "metadata": {},
   "outputs": [
    {
     "data": {
      "text/plain": [
       "array([[0.73640675, 0.55478297],\n",
       "       [0.55478297, 1.09692658]])"
      ]
     },
     "execution_count": 49,
     "metadata": {},
     "output_type": "execute_result"
    }
   ],
   "source": [
    "cov9"
   ]
  },
  {
   "cell_type": "code",
   "execution_count": 50,
   "id": "7e614694-fae5-4e17-974b-8c3c56b92912",
   "metadata": {},
   "outputs": [
    {
     "data": {
      "text/plain": [
       "array([[1.5       , 0.        ],\n",
       "       [0.        , 0.33333333]])"
      ]
     },
     "execution_count": 50,
     "metadata": {},
     "output_type": "execute_result"
    }
   ],
   "source": [
    "Scale"
   ]
  },
  {
   "cell_type": "code",
   "execution_count": 92,
   "id": "afdd3e42-b017-4fc9-bf64-c93d57c791d8",
   "metadata": {},
   "outputs": [
    {
     "data": {
      "text/plain": [
       "array([[-0.58778525, -0.80901699],\n",
       "       [ 0.80901699, -0.58778525]])"
      ]
     },
     "execution_count": 92,
     "metadata": {},
     "output_type": "execute_result"
    }
   ],
   "source": [
    "Rot1"
   ]
  },
  {
   "cell_type": "code",
   "execution_count": null,
   "id": "6c0cb5a3-b6da-48ad-8e70-65a184373f93",
   "metadata": {},
   "outputs": [],
   "source": []
  }
 ],
 "metadata": {
  "kernelspec": {
   "display_name": "Python 3 (ipykernel)",
   "language": "python",
   "name": "python3"
  },
  "language_info": {
   "codemirror_mode": {
    "name": "ipython",
    "version": 3
   },
   "file_extension": ".py",
   "mimetype": "text/x-python",
   "name": "python",
   "nbconvert_exporter": "python",
   "pygments_lexer": "ipython3",
   "version": "3.10.6"
  }
 },
 "nbformat": 4,
 "nbformat_minor": 5
}
